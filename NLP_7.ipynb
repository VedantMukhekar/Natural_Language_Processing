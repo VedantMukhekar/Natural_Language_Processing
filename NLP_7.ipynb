{
  "nbformat": 4,
  "nbformat_minor": 0,
  "metadata": {
    "colab": {
      "provenance": []
    },
    "kernelspec": {
      "name": "python3",
      "display_name": "Python 3"
    },
    "language_info": {
      "name": "python"
    }
  },
  "cells": [
    {
      "cell_type": "code",
      "source": [],
      "metadata": {
        "id": "fab27kP1_3BW"
      },
      "execution_count": null,
      "outputs": []
    },
    {
      "cell_type": "markdown",
      "source": [
        "# **ASSIGNMENT-7**"
      ],
      "metadata": {
        "id": "8KRYZQSCidzM"
      }
    },
    {
      "cell_type": "code",
      "source": [
        "import random\n",
        "from collections import defaultdict\n",
        "\n",
        "# Step 1: Tokenize the input text\n",
        "def tokenize(text):\n",
        "    return text.lower().split()\n",
        "\n",
        "# Step 2: Create an N-gram model (Bigram in this case)\n",
        "def create_bigram_model(corpus):\n",
        "    bigram_model = defaultdict(list)\n",
        "    for sentence in corpus:\n",
        "        tokens = tokenize(sentence)\n",
        "        for i in range(len(tokens)-1):\n",
        "            bigram_model[tokens[i]].append(tokens[i+1])\n",
        "    return bigram_model\n",
        "\n",
        "# Step 3: Generate auto-completion for a given input phrase\n",
        "def autocomplete(bigram_model, input_phrase, max_completions=5):\n",
        "    tokens = tokenize(input_phrase)\n",
        "    last_word = tokens[-1]  # Get the last word in the input\n",
        "    if last_word in bigram_model:\n",
        "        possible_words = bigram_model[last_word]\n",
        "        # Randomly sample from the next word predictions\n",
        "        return random.sample(possible_words, min(len(possible_words), max_completions))\n",
        "    else:\n",
        "        return [\"No completions available\"]\n",
        "\n",
        "# Sample corpus\n",
        "corpus = [\n",
        "    \"I love programming in Python\",\n",
        "    \"Python is a great programming language\",\n",
        "    \"I enjoy learning new programming languages\",\n",
        "    \"Programming is fun\"\n",
        "]\n",
        "\n",
        "# Step 4: Create the bigram model\n",
        "bigram_model = create_bigram_model(corpus)\n",
        "\n",
        "# Step 5: Test the autocomplete function\n",
        "input_phrase = \"I enjoy\"\n",
        "completions = autocomplete(bigram_model, input_phrase)\n",
        "print(f\"Auto-completions for '{input_phrase}': {completions}\")\n"
      ],
      "metadata": {
        "colab": {
          "base_uri": "https://localhost:8080/"
        },
        "id": "mpKUrGatimD7",
        "outputId": "f239a551-6135-472a-80f7-7cc4a0170975"
      },
      "execution_count": null,
      "outputs": [
        {
          "output_type": "stream",
          "name": "stdout",
          "text": [
            "Auto-completions for 'I enjoy': ['learning']\n"
          ]
        }
      ]
    }
  ]
}