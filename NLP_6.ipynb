{
  "nbformat": 4,
  "nbformat_minor": 0,
  "metadata": {
    "colab": {
      "provenance": []
    },
    "kernelspec": {
      "name": "python3",
      "display_name": "Python 3"
    },
    "language_info": {
      "name": "python"
    }
  },
  "cells": [
    {
      "cell_type": "markdown",
      "source": [
        "# **ASSIGNMENT-6**"
      ],
      "metadata": {
        "id": "_hFhQ0fOghuk"
      }
    },
    {
      "cell_type": "code",
      "source": [
        "from transformers import pipeline\n",
        "\n",
        "# Use a pre-trained model for sentiment analysis\n",
        "pipe = pipeline(\"sentiment-analysis\", model=\"distilbert-base-uncased-finetuned-sst-2-english\")\n",
        "\n",
        "# Test the model with your example input\n",
        "result = pipe(\"I hate it\")\n",
        "\n",
        "# Extract the label from the result\n",
        "label = result[0]['label']\n",
        "print(f\"Sentiment: {label}\")\n"
      ],
      "metadata": {
        "colab": {
          "base_uri": "https://localhost:8080/",
          "height": 180,
          "referenced_widgets": [
            "2244fc667c834b939cf2de2954303490",
            "a52cd4a9f7a943f1ab9157e15c9d381c",
            "2dd4e8437fae4dbca21035d3c560a6b8",
            "7ab4ba428c604cd5b55b26cb13754fb5",
            "4ef92c4f9e984e9f9958aa152647fcfd",
            "4a074a75294242fdb1a0de8f424b145f",
            "b019fc4c6f8a4a7abf97bbeb37c0aa6e",
            "7acd48c6bd414540bcfb32bdf55eaff6",
            "4ba2ddc6497a4b6c9e4e24ce862ade53",
            "c554afb2ef654881a2c33a63401ea7d5",
            "d36a2be961ef4610b9d03b3f6af06e1f",
            "ce13fa8d607043a48f45e3a7883652b1",
            "c3e5a3fe5b2340d397a4b00a05cbaf62",
            "88ba467739e449c68883b45ca5193cf3",
            "d6a05687cb134c5aa29298ca6e1fda8f",
            "e27f0d10fca84e7580bc3f290cde0e72",
            "7376a1bfac2e43efbbecd5d3bbc8ad7e",
            "5081bc2a999742bc86d7f7c5f03a9c13",
            "172897b11a7b4fd88344e3a2a7065bf4",
            "fb2ac0fe51934afcbe3c78d7ac9fe6d3",
            "b0d650e82d2148b383329bec60eace34",
            "ca565ca1bb4a4cef899dd866e5226749",
            "780406394a20442688e5951cd9911920",
            "1139ec23f1c54e98b912ce4e170c7742",
            "20ba37b6ba1a4bbb8357056bff392935",
            "d60ba72b8ff3450bb240aaf1bc0017f1",
            "e0cfe0e091ea4bfc97ab04319483e736",
            "9b7407448ee7473ea125870378aedf00",
            "930e1e6de0534992990a523973240c54",
            "e4c99648b92f4710987e775199336a90",
            "12866bdd295b499198acf2fb107c49a2",
            "5777df4472cc4f6e85ac9e0b62c929a3",
            "5bd94a1f9ce944ba92795e09e14a3737",
            "a79ca9be000d456fbd4d97d56a746bbf",
            "6ffd08421046421a9914b607c9b11d62",
            "9b21bfada4894a0485cfacc75c6c67d6",
            "c32609d775ea4918b7eef805620a72d9",
            "00ae024c4e6a417cb483cd2d2c5f7679",
            "9c60824825ba4b4b9ef5b2ad7ffebdda",
            "a6515c034b9a46a7b9fba17911533d0e",
            "ec58114f7f8d479db9cbbf7008e4a705",
            "a7259478df26454390d191ca6bddc669",
            "1a345e58b7c94d83923b5c668dba9ae3",
            "0b7f651fd99543d4bb681c00a85cba8d"
          ]
        },
        "id": "NySVgvqfk48Q",
        "outputId": "e628e77e-1f58-4dfc-f8b2-a9950f182b3f"
      },
      "execution_count": null,
      "outputs": [
        {
          "output_type": "display_data",
          "data": {
            "text/plain": [
              "config.json:   0%|          | 0.00/629 [00:00<?, ?B/s]"
            ],
            "application/vnd.jupyter.widget-view+json": {
              "version_major": 2,
              "version_minor": 0,
              "model_id": "2244fc667c834b939cf2de2954303490"
            }
          },
          "metadata": {}
        },
        {
          "output_type": "display_data",
          "data": {
            "text/plain": [
              "model.safetensors:   0%|          | 0.00/268M [00:00<?, ?B/s]"
            ],
            "application/vnd.jupyter.widget-view+json": {
              "version_major": 2,
              "version_minor": 0,
              "model_id": "ce13fa8d607043a48f45e3a7883652b1"
            }
          },
          "metadata": {}
        },
        {
          "output_type": "display_data",
          "data": {
            "text/plain": [
              "tokenizer_config.json:   0%|          | 0.00/48.0 [00:00<?, ?B/s]"
            ],
            "application/vnd.jupyter.widget-view+json": {
              "version_major": 2,
              "version_minor": 0,
              "model_id": "780406394a20442688e5951cd9911920"
            }
          },
          "metadata": {}
        },
        {
          "output_type": "display_data",
          "data": {
            "text/plain": [
              "vocab.txt:   0%|          | 0.00/232k [00:00<?, ?B/s]"
            ],
            "application/vnd.jupyter.widget-view+json": {
              "version_major": 2,
              "version_minor": 0,
              "model_id": "a79ca9be000d456fbd4d97d56a746bbf"
            }
          },
          "metadata": {}
        },
        {
          "output_type": "stream",
          "name": "stderr",
          "text": [
            "Device set to use cpu\n"
          ]
        },
        {
          "output_type": "stream",
          "name": "stdout",
          "text": [
            "Sentiment: NEGATIVE\n"
          ]
        }
      ]
    }
  ]
}